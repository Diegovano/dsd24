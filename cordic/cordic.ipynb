{
 "cells": [
  {
   "cell_type": "code",
   "execution_count": 2,
   "metadata": {
    "dotnet_interactive": {
     "language": "csharp"
    },
    "polyglot_notebook": {
     "kernelName": "csharp"
    }
   },
   "outputs": [
    {
     "name": "stdout",
     "output_type": "stream",
     "text": [
      "Using matplotlib backend: <object object at 0x74e97a3bbd90>\n"
     ]
    }
   ],
   "source": [
    "%matplotlib\n",
    "\n",
    "import matplotlib.pyplot as plt\n",
    "import numpy as np\n",
    "import math\n",
    "import random\n",
    "from fxpmath import Fxp"
   ]
  },
  {
   "cell_type": "code",
   "execution_count": 2,
   "metadata": {
    "dotnet_interactive": {
     "language": "csharp"
    },
    "polyglot_notebook": {
     "kernelName": "csharp"
    }
   },
   "outputs": [
    {
     "data": {
      "text/plain": [
       "[0.7853981633974483,\n",
       " 0.4636476090008061,\n",
       " 0.24497866312686414,\n",
       " 0.12435499454676144,\n",
       " 0.06241880999595735,\n",
       " 0.031239833430268277,\n",
       " 0.015623728620476831,\n",
       " 0.007812341060101111,\n",
       " 0.0039062301319669718,\n",
       " 0.0019531225164788188,\n",
       " 0.0009765621895593195,\n",
       " 0.0004882812111948983,\n",
       " 0.00024414062014936177,\n",
       " 0.00012207031189367021,\n",
       " 6.103515617420877e-05,\n",
       " 3.0517578115526096e-05]"
      ]
     },
     "metadata": {},
     "output_type": "display_data"
    },
    {
     "data": {
      "text/plain": [
       "0.6072529351031394"
      ]
     },
     "metadata": {},
     "output_type": "display_data"
    },
    {
     "data": {
      "text/plain": [
       "'0x26DD3B'"
      ]
     },
     "metadata": {},
     "output_type": "display_data"
    },
    {
     "data": {
      "text/plain": [
       "['0x3243F6',\n",
       " '0x1DAC67',\n",
       " '0x0FADBA',\n",
       " '0x07F56E',\n",
       " '0x03FEAB',\n",
       " '0x01FFD5',\n",
       " '0x00FFFA',\n",
       " '0x007FFF',\n",
       " '0x003FFF',\n",
       " '0x001FFF',\n",
       " '0x000FFF',\n",
       " '0x0007FF',\n",
       " '0x0003FF',\n",
       " '0x0001FF',\n",
       " '0x0000FF',\n",
       " '0x00007F']"
      ]
     },
     "metadata": {},
     "output_type": "display_data"
    }
   ],
   "source": [
    "iterations = 16\n",
    "\n",
    "anglesRad = [math.atan(2**(-i)) for i in range(iterations)]\n",
    "anglesDeg = [math.atan(2**(-i)) * 180/math.pi for i in range(iterations)]\n",
    "\n",
    "anglesRadFixed = [Fxp(angle, True, None, 22, 1).hex() for angle in anglesRad]\n",
    "\n",
    "K = 1\n",
    "\n",
    "for angle in anglesRad:\n",
    "  K *= math.sqrt(1 + (math.tan(angle)) ** 2)\n",
    "\n",
    "display(anglesRad, 1/K, Fxp(1/K, True, None, 22, 1).hex())\n",
    "display(anglesRadFixed)"
   ]
  },
  {
   "cell_type": "code",
   "execution_count": 4,
   "metadata": {
    "dotnet_interactive": {
     "language": "csharp"
    },
    "polyglot_notebook": {
     "kernelName": "csharp"
    }
   },
   "outputs": [
    {
     "data": {
      "text/plain": [
       "'z[0]: 0.009999990463256836, x[0]: 0.607252836227417, y[0]: 0.0'"
      ]
     },
     "metadata": {},
     "output_type": "display_data"
    },
    {
     "data": {
      "text/plain": [
       "'z[1]: -0.7753980159759521, x[1]: 0.607252836227417, y[1]: 0.607252836227417'"
      ]
     },
     "metadata": {},
     "output_type": "display_data"
    },
    {
     "data": {
      "text/plain": [
       "'z[2]: -0.3117504119873047, x[2]: 0.9108791351318359, y[2]: 0.30362653732299805'"
      ]
     },
     "metadata": {},
     "output_type": "display_data"
    },
    {
     "data": {
      "text/plain": [
       "'z[3]: -0.0667719841003418, x[3]: 0.9867856502532959, y[3]: 0.07590675354003906'"
      ]
     },
     "metadata": {},
     "output_type": "display_data"
    },
    {
     "data": {
      "text/plain": [
       "'z[4]: 0.057582855224609375, x[4]: 0.9962739944458008, y[4]: -0.04744124412536621'"
      ]
     },
     "metadata": {},
     "output_type": "display_data"
    },
    {
     "data": {
      "text/plain": [
       "'z[5]: -0.004835844039916992, x[5]: 0.9992389678955078, y[5]: 0.014825820922851562'"
      ]
     },
     "metadata": {},
     "output_type": "display_data"
    },
    {
     "data": {
      "text/plain": [
       "'z[6]: 0.02640390396118164, x[6]: 0.9997022151947021, y[6]: -0.01640033721923828'"
      ]
     },
     "metadata": {},
     "output_type": "display_data"
    },
    {
     "data": {
      "text/plain": [
       "'z[7]: 0.01078033447265625, x[7]: 0.9999582767486572, y[7]: -0.0007801055908203125'"
      ]
     },
     "metadata": {},
     "output_type": "display_data"
    },
    {
     "data": {
      "text/plain": [
       "'z[8]: 0.0029680728912353516, x[8]: 0.9999642372131348, y[8]: 0.007031917572021484'"
      ]
     },
     "metadata": {},
     "output_type": "display_data"
    },
    {
     "data": {
      "text/plain": [
       "'z[9]: -0.0009379386901855469, x[9]: 0.9999368190765381, y[9]: 0.010937929153442383'"
      ]
     },
     "metadata": {},
     "output_type": "display_data"
    },
    {
     "data": {
      "text/plain": [
       "'z[10]: 0.0010149478912353516, x[10]: 0.9999580383300781, y[10]: 0.008985042572021484'"
      ]
     },
     "metadata": {},
     "output_type": "display_data"
    },
    {
     "data": {
      "text/plain": [
       "'z[11]: 3.8623809814453125e-05, x[11]: 0.9999494552612305, y[11]: 0.009961366653442383'"
      ]
     },
     "metadata": {},
     "output_type": "display_data"
    },
    {
     "data": {
      "text/plain": [
       "'z[12]: -0.0004494190216064453, x[12]: 0.9999446868896484, y[12]: 0.010449409484863281'"
      ]
     },
     "metadata": {},
     "output_type": "display_data"
    },
    {
     "data": {
      "text/plain": [
       "'z[13]: -0.00020551681518554688, x[13]: 0.9999470710754395, y[13]: 0.010205507278442383'"
      ]
     },
     "metadata": {},
     "output_type": "display_data"
    },
    {
     "data": {
      "text/plain": [
       "'z[14]: -8.368492126464844e-05, x[14]: 0.999948263168335, y[14]: 0.010083675384521484'"
      ]
     },
     "metadata": {},
     "output_type": "display_data"
    },
    {
     "data": {
      "text/plain": [
       "'z[15]: -2.288818359375e-05, x[15]: 0.9999487400054932, y[15]: 0.010022878646850586'"
      ]
     },
     "metadata": {},
     "output_type": "display_data"
    }
   ],
   "source": [
    "iterations = 16\n",
    "\n",
    "anglesRad = [math.atan(2**(-i)) for i in range(iterations)]\n",
    "anglesDeg = [math.atan(2**(-i)) * 180/math.pi for i in range(iterations)]\n",
    "\n",
    "x = Fxp(1/K, True, None, 22, 1)\n",
    "y = Fxp(0, True, None, 22, 1)\n",
    "\n",
    "z = Fxp(0.01, True, None, 22, 1)\n",
    "\n",
    "for i in range(len(anglesRad)):\n",
    "  display(f\"z[{i}]: {z}, x[{i}]: {x}, y[{i}]: {y}\")\n",
    "  if z >= 0:\n",
    "    z -= anglesRad[i]\n",
    "    newX = x - (y * 2 ** -i)\n",
    "    newY = y + (x * 2 ** -i)\n",
    "  else:\n",
    "    z += anglesRad[i]\n",
    "    newX = x + (y * 2 ** -i)\n",
    "    newY = y - (x * 2 ** -i)\n",
    "  x = newX\n",
    "  y = newY\n"
   ]
  },
  {
   "cell_type": "code",
   "execution_count": null,
   "metadata": {
    "dotnet_interactive": {
     "language": "csharp"
    },
    "polyglot_notebook": {
     "kernelName": "csharp"
    }
   },
   "outputs": [],
   "source": [
    "iterMeans = []\n",
    "iterCis = []\n",
    "\n",
    "cordicIterations = np.arange(15, 20, 1)\n",
    "\n",
    "for cordIteration in cordicIterations:\n",
    "  iterations = int(cordIteration)\n",
    "  print(iterations)\n",
    "\n",
    "  anglesRad = [math.atan(2**(-i)) for i in range(iterations)]\n",
    "  anglesDeg = [math.atan(2**(-i)) * 180/math.pi for i in range(iterations)]\n",
    "\n",
    "  K = 1\n",
    "\n",
    "  for angle in anglesRad:\n",
    "    K *= math.sqrt(1 + (math.tan(angle)) ** 2)\n",
    "\n",
    "  # display(K)\n",
    "  numSamples = 10000\n",
    "\n",
    "  intBits = 1\n",
    "  signed = True\n",
    "\n",
    "  fracs = np.arange(18, 25, 1)\n",
    "  means = []\n",
    "  cis = []\n",
    "\n",
    "  for fracBitsIter in fracs:\n",
    "    fracBits = int(fracBitsIter)\n",
    "\n",
    "    x = Fxp(np.full((numSamples), 1/K), signed, None, fracBits, intBits)\n",
    "    y = Fxp(np.zeros((numSamples)), signed, None, fracBits, intBits)\n",
    "    # initAngleRad = float(input(\"angle: \"))\n",
    "    initAngleRad = (np.random.random((numSamples)) - 0.5) * 2 # random between -1 and 1\n",
    "    # initAngleRad = 0\n",
    "\n",
    "    # convert to fixed point\n",
    "\n",
    "    # z = decimal(initAngle)\n",
    "    # z = initAngleRad\n",
    "    z = Fxp(initAngleRad, signed, None, fracBits, intBits)\n",
    "\n",
    "\n",
    "    for i in range(len(anglesRad)):\n",
    "\n",
    "      newX = np.where(z >= 0, x - (y * 2 ** -i), x + (y * 2 ** -i))\n",
    "      newY = np.where(z >= 0, y + (x * 2 ** -i), y - (x * 2 ** -i))\n",
    "\n",
    "      z = np.where(z >= 0, z - anglesRad[i], z + anglesRad[i])\n",
    "\n",
    "      # if z >= 0:\n",
    "      #   z -= anglesRad[i]\n",
    "      #   newX = x - (y * 2 ** -i)\n",
    "      #   newY = y + (x * 2 ** -i)\n",
    "      # else:\n",
    "      #   z += anglesRad[i]\n",
    "      #   newX = x + (y * 2 ** -i)\n",
    "      #   newY = y - (x * 2 ** -i)\n",
    "      x = newX\n",
    "      y = newY\n",
    "\n",
    "    error = x.get_val() - np.cos(initAngleRad)\n",
    "\n",
    "    mean = np.average(error)\n",
    "    ci = np.std(error) / math.sqrt(numSamples) * 1.96\n",
    "\n",
    "    means.append(mean)\n",
    "    cis.append(ci)\n",
    "\n",
    "    print(f\"{fracBits} bits:\\tlb: {mean - ci}\\tmean: {mean}\\tub:{mean + ci}\")\n",
    "float \n",
    "  iterMeans.append(means)\n",
    "  iterCis.append(cis)\n",
    "\n",
    "# plt.hist(res)\n",
    "fig, ax = plt.subplots()\n",
    "for i in range(len(iterMeans)):\n",
    "  ax.plot(fracs, iterMeans[i], label=f\"i{cordicIterations[i]}\")\n",
    "  ax.legend()\n",
    "  ax.fill_between(fracs, np.subtract(iterMeans[i], iterCis[i]), np.add(iterMeans[i], iterCis[i]), alpha=.1)\n",
    "prevYLim = ax.get_ylim()\n",
    "prevXLim = ax.get_xlim()\n",
    "ax.fill_between([0, 50], -5e-7, -10, interpolate=True, hatch='/', alpha=.1)\n",
    "ax.set_ylim(prevYLim)\n",
    "ax.set_xlim(prevXLim)\n",
    "plt.show()"
   ]
  },
  {
   "cell_type": "code",
   "execution_count": null,
   "metadata": {
    "dotnet_interactive": {
     "language": "csharp"
    },
    "polyglot_notebook": {
     "kernelName": "csharp"
    }
   },
   "outputs": [],
   "source": [
    "fig, ax = plt.subplots()\n",
    "\n",
    "fracs = np.arange(1,10,1)\n",
    "y = np.full(10, -1)\n",
    "\n",
    "ax.fill_between(fracs, -2, -100, color='none', edgecolor='black', hatch='/', alpha=0.1)\n",
    "ax.set_ylim(-10, 0)\n",
    "plt.show()"
   ]
  },
  {
   "cell_type": "code",
   "execution_count": 3,
   "metadata": {},
   "outputs": [
    {
     "data": {
      "text/plain": [
       "36837.97421202771"
      ]
     },
     "execution_count": 3,
     "metadata": {},
     "output_type": "execute_result"
    }
   ],
   "source": [
    "x = 244\n",
    "\n",
    "0.5* x + x * x * math.cos((x-128)/128)"
   ]
  }
 ],
 "metadata": {
  "kernelspec": {
   "display_name": "venv",
   "language": "python",
   "name": "python3"
  },
  "language_info": {
   "codemirror_mode": {
    "name": "ipython",
    "version": 3
   },
   "file_extension": ".py",
   "mimetype": "text/x-python",
   "name": "python",
   "nbconvert_exporter": "python",
   "pygments_lexer": "ipython3",
   "version": "3.11.6"
  },
  "polyglot_notebook": {
   "kernelInfo": {
    "defaultKernelName": "csharp",
    "items": [
     {
      "aliases": [],
      "name": "csharp"
     }
    ]
   }
  }
 },
 "nbformat": 4,
 "nbformat_minor": 2
}
