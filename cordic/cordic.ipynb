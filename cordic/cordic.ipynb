{
 "cells": [
  {
   "cell_type": "code",
   "execution_count": 4,
   "metadata": {},
   "outputs": [
    {
     "name": "stdout",
     "output_type": "stream",
     "text": [
      "Using matplotlib backend: TkAgg\n"
     ]
    }
   ],
   "source": [
    "%matplotlib\n",
    "\n",
    "import matplotlib.pyplot as plt\n",
    "import numpy as np\n",
    "import math\n",
    "import random\n",
    "from fxpmath import Fxp"
   ]
  },
  {
   "cell_type": "code",
   "execution_count": 17,
   "metadata": {},
   "outputs": [
    {
     "data": {
      "text/plain": [
       "[0.7853981633974483,\n",
       " 0.4636476090008061,\n",
       " 0.24497866312686414,\n",
       " 0.12435499454676144,\n",
       " 0.06241880999595735,\n",
       " 0.031239833430268277,\n",
       " 0.015623728620476831,\n",
       " 0.007812341060101111,\n",
       " 0.0039062301319669718,\n",
       " 0.0019531225164788188,\n",
       " 0.0009765621895593195,\n",
       " 0.0004882812111948983,\n",
       " 0.00024414062014936177,\n",
       " 0.00012207031189367021,\n",
       " 6.103515617420877e-05,\n",
       " 3.0517578115526096e-05]"
      ]
     },
     "metadata": {},
     "output_type": "display_data"
    },
    {
     "data": {
      "text/plain": [
       "0.6072529351031394"
      ]
     },
     "metadata": {},
     "output_type": "display_data"
    },
    {
     "data": {
      "text/plain": [
       "'0x26DD3B'"
      ]
     },
     "metadata": {},
     "output_type": "display_data"
    },
    {
     "data": {
      "text/plain": [
       "['0x3243F6',\n",
       " '0x1DAC67',\n",
       " '0x0FADBA',\n",
       " '0x07F56E',\n",
       " '0x03FEAB',\n",
       " '0x01FFD5',\n",
       " '0x00FFFA',\n",
       " '0x007FFF',\n",
       " '0x003FFF',\n",
       " '0x001FFF',\n",
       " '0x000FFF',\n",
       " '0x0007FF',\n",
       " '0x0003FF',\n",
       " '0x0001FF',\n",
       " '0x0000FF',\n",
       " '0x00007F']"
      ]
     },
     "metadata": {},
     "output_type": "display_data"
    }
   ],
   "source": [
    "iterations = 16\n",
    "\n",
    "anglesRad = [math.atan(2**(-i)) for i in range(iterations)]\n",
    "anglesDeg = [math.atan(2**(-i)) * 180/math.pi for i in range(iterations)]\n",
    "\n",
    "anglesRadFixed = [Fxp(angle, True, None, 22, 1).hex() for angle in anglesRad]\n",
    "\n",
    "K = 1\n",
    "\n",
    "for angle in anglesRad:\n",
    "  K *= math.sqrt(1 + (math.tan(angle)) ** 2)\n",
    "\n",
    "display(anglesRad, 1/K, Fxp(1/K, True, None, 22, 1).hex())\n",
    "display(anglesRadFixed)"
   ]
  },
  {
   "cell_type": "code",
   "execution_count": 16,
   "metadata": {},
   "outputs": [
    {
     "data": {
      "text/plain": [
       "'z[0]: 0.75, x[0]: 0.607252836227417, y[0]: 0.0'"
      ]
     },
     "metadata": {},
     "output_type": "display_data"
    },
    {
     "data": {
      "text/plain": [
       "'z[1]: -0.035398006439208984, x[1]: 0.607252836227417, y[1]: 0.607252836227417'"
      ]
     },
     "metadata": {},
     "output_type": "display_data"
    },
    {
     "data": {
      "text/plain": [
       "'z[2]: 0.4282495975494385, x[2]: 0.9108791351318359, y[2]: 0.30362653732299805'"
      ]
     },
     "metadata": {},
     "output_type": "display_data"
    },
    {
     "data": {
      "text/plain": [
       "'z[3]: 0.18327116966247559, x[3]: 0.834972620010376, y[3]: 0.531346321105957'"
      ]
     },
     "metadata": {},
     "output_type": "display_data"
    },
    {
     "data": {
      "text/plain": [
       "'z[4]: 0.058916330337524414, x[4]: 0.7685544490814209, y[4]: 0.6357178688049316'"
      ]
     },
     "metadata": {},
     "output_type": "display_data"
    },
    {
     "data": {
      "text/plain": [
       "'z[5]: -0.003502368927001953, x[5]: 0.7288222312927246, y[5]: 0.6837522983551025'"
      ]
     },
     "metadata": {},
     "output_type": "display_data"
    },
    {
     "data": {
      "text/plain": [
       "'z[6]: 0.02773737907409668, x[6]: 0.7501893043518066, y[6]: 0.6609766483306885'"
      ]
     },
     "metadata": {},
     "output_type": "display_data"
    },
    {
     "data": {
      "text/plain": [
       "'z[7]: 0.012113809585571289, x[7]: 0.7398617267608643, y[7]: 0.6726982593536377'"
      ]
     },
     "metadata": {},
     "output_type": "display_data"
    },
    {
     "data": {
      "text/plain": [
       "'z[8]: 0.004301548004150391, x[8]: 0.7346065044403076, y[8]: 0.6784782409667969'"
      ]
     },
     "metadata": {},
     "output_type": "display_data"
    },
    {
     "data": {
      "text/plain": [
       "'z[9]: 0.0003955364227294922, x[9]: 0.7319562435150146, y[9]: 0.6813476085662842'"
      ]
     },
     "metadata": {},
     "output_type": "display_data"
    },
    {
     "data": {
      "text/plain": [
       "'z[10]: -0.0015573501586914062, x[10]: 0.7306256294250488, y[10]: 0.6827771663665771'"
      ]
     },
     "metadata": {},
     "output_type": "display_data"
    },
    {
     "data": {
      "text/plain": [
       "'z[11]: -0.0005810260772705078, x[11]: 0.7312922477722168, y[11]: 0.6820638179779053'"
      ]
     },
     "metadata": {},
     "output_type": "display_data"
    },
    {
     "data": {
      "text/plain": [
       "'z[12]: -9.298324584960938e-05, x[12]: 0.7316250801086426, y[12]: 0.6817069053649902'"
      ]
     },
     "metadata": {},
     "output_type": "display_data"
    },
    {
     "data": {
      "text/plain": [
       "'z[13]: 0.00015091896057128906, x[13]: 0.7317914962768555, y[13]: 0.6815283298492432'"
      ]
     },
     "metadata": {},
     "output_type": "display_data"
    },
    {
     "data": {
      "text/plain": [
       "'z[14]: 2.9087066650390625e-05, x[14]: 0.7317085266113281, y[14]: 0.6816174983978271'"
      ]
     },
     "metadata": {},
     "output_type": "display_data"
    },
    {
     "data": {
      "text/plain": [
       "'z[15]: -3.170967102050781e-05, x[15]: 0.7316670417785645, y[15]: 0.6816620826721191'"
      ]
     },
     "metadata": {},
     "output_type": "display_data"
    }
   ],
   "source": [
    "iterations = 16\n",
    "\n",
    "anglesRad = [math.atan(2**(-i)) for i in range(iterations)]\n",
    "anglesDeg = [math.atan(2**(-i)) * 180/math.pi for i in range(iterations)]\n",
    "\n",
    "x = Fxp(1/K, True, None, 22, 1)\n",
    "y = Fxp(0, True, None, 22, 1)\n",
    "\n",
    "z = Fxp(0.75, True, None, 22, 1)\n",
    "\n",
    "for i in range(len(anglesRad)):\n",
    "  display(f\"z[{i}]: {z}, x[{i}]: {x}, y[{i}]: {y}\")\n",
    "  if z >= 0:\n",
    "    z -= anglesRad[i]\n",
    "    newX = x - (y * 2 ** -i)\n",
    "    newY = y + (x * 2 ** -i)\n",
    "  else:\n",
    "    z += anglesRad[i]\n",
    "    newX = x + (y * 2 ** -i)\n",
    "    newY = y - (x * 2 ** -i)\n",
    "  x = newX\n",
    "  y = newY\n"
   ]
  },
  {
   "cell_type": "code",
   "execution_count": 10,
   "metadata": {},
   "outputs": [
    {
     "name": "stdout",
     "output_type": "stream",
     "text": [
      "15\n",
      "18 bits:\tlb: -7.96578491901864e-06\tmean: -7.579244120550177e-06\tub:-7.192703322081713e-06\n",
      "19 bits:\tlb: -3.6400759070859616e-06\tmean: -3.278910483909192e-06\tub:-2.9177450607324226e-06\n",
      "20 bits:\tlb: -2.0711546558748966e-06\tmean: -1.7117958651418962e-06\tub:-1.3524370744088956e-06\n",
      "21 bits:\tlb: -1.6035318406234032e-06\tmean: -1.243099086274213e-06\tub:-8.826663319250229e-07\n",
      "22 bits:\tlb: -6.292292609521309e-07\tmean: -2.690861339674111e-07\tub:9.105699301730872e-08\n",
      "23 bits:\tlb: -5.041586504750293e-07\tmean: -1.4314803324870785e-07\tub:2.1786258397761363e-07\n",
      "24 bits:\tlb: -4.3478716158325753e-07\tmean: -7.131651914670245e-08\tub:2.921541232898526e-07\n",
      "16\n",
      "18 bits:\tlb: -7.710250843207085e-06\tmean: -7.477460713860173e-06\tub:-7.244670584513261e-06\n",
      "19 bits:\tlb: -3.214707528707752e-06\tmean: -3.0224951103709264e-06\tub:-2.830282692034101e-06\n",
      "20 bits:\tlb: -2.0195475508213867e-06\tmean: -1.8378016814872833e-06\tub:-1.6560558121531801e-06\n",
      "21 bits:\tlb: -1.219389286041626e-06\tmean: -1.036366721655746e-06\tub:-8.533441572698661e-07\n",
      "22 bits:\tlb: -5.822837390793108e-07\tmean: -4.0099342111789006e-07\tub:-2.1970310315646935e-07\n",
      "23 bits:\tlb: -4.5150343878416904e-07\tmean: -2.707473420877293e-07\tub:-8.999124539128961e-08\n",
      "24 bits:\tlb: -3.639620263280714e-07\tmean: -1.8225435574671378e-07\tub:-5.466851653561643e-10\n",
      "17\n",
      "18 bits:\tlb: -7.652758545840056e-06\tmean: -7.472236312165492e-06\tub:-7.291714078490928e-06\n",
      "19 bits:\tlb: -3.083001480783282e-06\tmean: -2.9695995680526165e-06\tub:-2.856197655321951e-06\n",
      "20 bits:\tlb: -1.9677603790597527e-06\tmean: -1.8726660678035411e-06\tub:-1.7775717565473298e-06\n",
      "21 bits:\tlb: -1.2250306476755675e-06\tmean: -1.1315598156929508e-06\tub:-1.0380889837103341e-06\n",
      "22 bits:\tlb: -5.526944054568715e-07\tmean: -4.60937787104887e-07\tub:-3.6918116875290247e-07\n",
      "23 bits:\tlb: -3.148174457240511e-07\tmean: -2.240666924585133e-07\tub:-1.333159391929755e-07\n",
      "24 bits:\tlb: -2.1568937478377287e-07\tmean: -1.2512027304385498e-07\tub:-3.455117130393709e-08\n",
      "18\n",
      "18 bits:\tlb: -7.775642275982498e-06\tmean: -7.610841307342131e-06\tub:-7.446040338701764e-06\n",
      "19 bits:\tlb: -3.097309122793041e-06\tmean: -3.0143434240959333e-06\tub:-2.9313777253988255e-06\n",
      "20 bits:\tlb: -1.9059186357203653e-06\tmean: -1.8503220749097383e-06\tub:-1.7947255140991113e-06\n",
      "21 bits:\tlb: -1.206238938326715e-06\tmean: -1.1550454580086189e-06\tub:-1.1038519776905228e-06\n",
      "22 bits:\tlb: -4.347627957215667e-07\tmean: -3.8660019561831404e-07\tub:-3.384375955150614e-07\n",
      "23 bits:\tlb: -2.5392744097350527e-07\tmean: -2.0796380729303233e-07\tub:-1.6200017361255936e-07\n",
      "24 bits:\tlb: -1.877503821693404e-07\tmean: -1.4187032047321413e-07\tub:-9.599025877708788e-08\n",
      "19\n",
      "18 bits:\tlb: -7.78273608416224e-06\tmean: -7.6183755359744534e-06\tub:-7.454014987786668e-06\n",
      "19 bits:\tlb: -2.993511581063662e-06\tmean: -2.9174208530369895e-06\tub:-2.841330125010317e-06\n",
      "20 bits:\tlb: -1.9214367698740417e-06\tmean: -1.8818803212328983e-06\tub:-1.8423238725917551e-06\n",
      "21 bits:\tlb: -1.226191098388674e-06\tmean: -1.1932443149124562e-06\tub:-1.1602975314362382e-06\n",
      "22 bits:\tlb: -4.1499980076448637e-07\tmean: -3.8613315653291956e-07\tub:-3.5726651230135275e-07\n",
      "23 bits:\tlb: -2.493861100430487e-07\tmean: -2.2645269386428745e-07\tub:-2.035192776855262e-07\n",
      "24 bits:\tlb: -1.6422883912876836e-07\tmean: -1.415770055543719e-07\tub:-1.1892517197997544e-07\n"
     ]
    }
   ],
   "source": [
    "iterMeans = []\n",
    "iterCis = []\n",
    "\n",
    "cordicIterations = np.arange(15, 20, 1)\n",
    "\n",
    "for cordIteration in cordicIterations:\n",
    "  iterations = int(cordIteration)\n",
    "  print(iterations)\n",
    "\n",
    "  anglesRad = [math.atan(2**(-i)) for i in range(iterations)]\n",
    "  anglesDeg = [math.atan(2**(-i)) * 180/math.pi for i in range(iterations)]\n",
    "\n",
    "  K = 1\n",
    "\n",
    "  for angle in anglesRad:\n",
    "    K *= math.sqrt(1 + (math.tan(angle)) ** 2)\n",
    "\n",
    "  # display(K)\n",
    "  numSamples = 10000\n",
    "\n",
    "  intBits = 1\n",
    "  signed = True\n",
    "\n",
    "  fracs = np.arange(18, 25, 1)\n",
    "  means = []\n",
    "  cis = []\n",
    "\n",
    "  for fracBitsIter in fracs:\n",
    "    fracBits = int(fracBitsIter)\n",
    "\n",
    "    x = Fxp(np.full((numSamples), 1/K), signed, None, fracBits, intBits)\n",
    "    y = Fxp(np.zeros((numSamples)), signed, None, fracBits, intBits)\n",
    "    # initAngleRad = float(input(\"angle: \"))\n",
    "    initAngleRad = (np.random.random((numSamples)) - 0.5) * 2 # random between -1 and 1\n",
    "    # initAngleRad = 0\n",
    "\n",
    "    # convert to fixed point\n",
    "\n",
    "    # z = decimal(initAngle)\n",
    "    # z = initAngleRad\n",
    "    z = Fxp(initAngleRad, signed, None, fracBits, intBits)\n",
    "\n",
    "\n",
    "    for i in range(len(anglesRad)):\n",
    "\n",
    "      newX = np.where(z >= 0, x - (y * 2 ** -i), x + (y * 2 ** -i))\n",
    "      newY = np.where(z >= 0, y + (x * 2 ** -i), y - (x * 2 ** -i))\n",
    "\n",
    "      z = np.where(z >= 0, z - anglesRad[i], z + anglesRad[i])\n",
    "\n",
    "      # if z >= 0:\n",
    "      #   z -= anglesRad[i]\n",
    "      #   newX = x - (y * 2 ** -i)\n",
    "      #   newY = y + (x * 2 ** -i)\n",
    "      # else:\n",
    "      #   z += anglesRad[i]\n",
    "      #   newX = x + (y * 2 ** -i)\n",
    "      #   newY = y - (x * 2 ** -i)\n",
    "      x = newX\n",
    "      y = newY\n",
    "\n",
    "    error = x.get_val() - np.cos(initAngleRad)\n",
    "\n",
    "    mean = np.average(error)\n",
    "    ci = np.std(error) / math.sqrt(numSamples) * 1.96\n",
    "\n",
    "    means.append(mean)\n",
    "    cis.append(ci)\n",
    "\n",
    "    print(f\"{fracBits} bits:\\tlb: {mean - ci}\\tmean: {mean}\\tub:{mean + ci}\")\n",
    "\n",
    "  iterMeans.append(means)\n",
    "  iterCis.append(cis)\n",
    "\n",
    "# plt.hist(res)\n",
    "fig, ax = plt.subplots()\n",
    "for i in range(len(iterMeans)):\n",
    "  ax.plot(fracs, iterMeans[i], label=f\"i{cordicIterations[i]}\")\n",
    "  ax.legend()\n",
    "  ax.fill_between(fracs, np.subtract(iterMeans[i], iterCis[i]), np.add(iterMeans[i], iterCis[i]), alpha=.1)\n",
    "prevYLim = ax.get_ylim()\n",
    "prevXLim = ax.get_xlim()\n",
    "ax.fill_between([0, 50], -5e-7, -10, interpolate=True, hatch='/', alpha=.1)\n",
    "ax.set_ylim(prevYLim)\n",
    "ax.set_xlim(prevXLim)\n",
    "plt.show()"
   ]
  },
  {
   "cell_type": "code",
   "execution_count": 3,
   "metadata": {},
   "outputs": [
    {
     "ename": "NameError",
     "evalue": "name 'plt' is not defined",
     "output_type": "error",
     "traceback": [
      "\u001b[0;31m---------------------------------------------------------------------------\u001b[0m",
      "\u001b[0;31mNameError\u001b[0m                                 Traceback (most recent call last)",
      "Cell \u001b[0;32mIn[3], line 1\u001b[0m\n\u001b[0;32m----> 1\u001b[0m fig, ax \u001b[38;5;241m=\u001b[39m \u001b[43mplt\u001b[49m\u001b[38;5;241m.\u001b[39msubplots()\n\u001b[1;32m      3\u001b[0m fracs \u001b[38;5;241m=\u001b[39m np\u001b[38;5;241m.\u001b[39marange(\u001b[38;5;241m1\u001b[39m,\u001b[38;5;241m10\u001b[39m,\u001b[38;5;241m1\u001b[39m)\n\u001b[1;32m      4\u001b[0m y \u001b[38;5;241m=\u001b[39m np\u001b[38;5;241m.\u001b[39mfull(\u001b[38;5;241m10\u001b[39m, \u001b[38;5;241m-\u001b[39m\u001b[38;5;241m1\u001b[39m)\n",
      "\u001b[0;31mNameError\u001b[0m: name 'plt' is not defined"
     ]
    }
   ],
   "source": [
    "fig, ax = plt.subplots()\n",
    "\n",
    "fracs = np.arange(1,10,1)\n",
    "y = np.full(10, -1)\n",
    "\n",
    "ax.fill_between(fracs, -2, -100, color='none', edgecolor='black', hatch='/', alpha=0.1)\n",
    "ax.set_ylim(-10, 0)\n",
    "plt.show()"
   ]
  }
 ],
 "metadata": {
  "kernelspec": {
   "display_name": "Python 3",
   "language": "python",
   "name": "python3"
  },
  "language_info": {
   "codemirror_mode": {
    "name": "ipython",
    "version": 3
   },
   "file_extension": ".py",
   "mimetype": "text/x-python",
   "name": "python",
   "nbconvert_exporter": "python",
   "pygments_lexer": "ipython3",
   "version": "3.11.6"
  }
 },
 "nbformat": 4,
 "nbformat_minor": 2
}
