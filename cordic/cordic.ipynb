{
 "cells": [
  {
   "cell_type": "code",
   "execution_count": 92,
   "metadata": {
    "dotnet_interactive": {
     "language": "csharp"
    },
    "polyglot_notebook": {
     "kernelName": "csharp"
    }
   },
   "outputs": [
    {
     "name": "stdout",
     "output_type": "stream",
     "text": [
      "Using matplotlib backend: TkAgg\n"
     ]
    }
   ],
   "source": [
    "%matplotlib\n",
    "\n",
    "import matplotlib.pyplot as plt\n",
    "from matplotlib import colors\n",
    "import numpy as np\n",
    "import math\n",
    "import random\n",
    "from fxpmath import Fxp"
   ]
  },
  {
   "cell_type": "code",
   "execution_count": 2,
   "metadata": {
    "dotnet_interactive": {
     "language": "csharp"
    },
    "polyglot_notebook": {
     "kernelName": "csharp"
    }
   },
   "outputs": [
    {
     "data": {
      "text/plain": [
       "[0.7853981633974483,\n",
       " 0.4636476090008061,\n",
       " 0.24497866312686414,\n",
       " 0.12435499454676144,\n",
       " 0.06241880999595735,\n",
       " 0.031239833430268277,\n",
       " 0.015623728620476831,\n",
       " 0.007812341060101111,\n",
       " 0.0039062301319669718,\n",
       " 0.0019531225164788188,\n",
       " 0.0009765621895593195,\n",
       " 0.0004882812111948983,\n",
       " 0.00024414062014936177,\n",
       " 0.00012207031189367021,\n",
       " 6.103515617420877e-05,\n",
       " 3.0517578115526096e-05]"
      ]
     },
     "metadata": {},
     "output_type": "display_data"
    },
    {
     "data": {
      "text/plain": [
       "0.6072529351031394"
      ]
     },
     "metadata": {},
     "output_type": "display_data"
    },
    {
     "data": {
      "text/plain": [
       "'0x26DD3B'"
      ]
     },
     "metadata": {},
     "output_type": "display_data"
    },
    {
     "data": {
      "text/plain": [
       "['0x3243F6',\n",
       " '0x1DAC67',\n",
       " '0x0FADBA',\n",
       " '0x07F56E',\n",
       " '0x03FEAB',\n",
       " '0x01FFD5',\n",
       " '0x00FFFA',\n",
       " '0x007FFF',\n",
       " '0x003FFF',\n",
       " '0x001FFF',\n",
       " '0x000FFF',\n",
       " '0x0007FF',\n",
       " '0x0003FF',\n",
       " '0x0001FF',\n",
       " '0x0000FF',\n",
       " '0x00007F']"
      ]
     },
     "metadata": {},
     "output_type": "display_data"
    }
   ],
   "source": [
    "iterations = 16\n",
    "\n",
    "anglesRad = [math.atan(2**(-i)) for i in range(iterations)]\n",
    "anglesDeg = [math.atan(2**(-i)) * 180/math.pi for i in range(iterations)]\n",
    "\n",
    "anglesRadFixed = [Fxp(angle, True, None, 22, 1).hex() for angle in anglesRad]\n",
    "\n",
    "K = 1\n",
    "\n",
    "for angle in anglesRad:\n",
    "  K *= math.sqrt(1 + (math.tan(angle)) ** 2)\n",
    "\n",
    "display(anglesRad, 1/K, Fxp(1/K, True, None, 22, 1).hex())\n",
    "display(anglesRadFixed)"
   ]
  },
  {
   "cell_type": "code",
   "execution_count": 4,
   "metadata": {
    "dotnet_interactive": {
     "language": "csharp"
    },
    "polyglot_notebook": {
     "kernelName": "csharp"
    }
   },
   "outputs": [
    {
     "data": {
      "text/plain": [
       "'z[0]: 0.009999990463256836, x[0]: 0.607252836227417, y[0]: 0.0'"
      ]
     },
     "metadata": {},
     "output_type": "display_data"
    },
    {
     "data": {
      "text/plain": [
       "'z[1]: -0.7753980159759521, x[1]: 0.607252836227417, y[1]: 0.607252836227417'"
      ]
     },
     "metadata": {},
     "output_type": "display_data"
    },
    {
     "data": {
      "text/plain": [
       "'z[2]: -0.3117504119873047, x[2]: 0.9108791351318359, y[2]: 0.30362653732299805'"
      ]
     },
     "metadata": {},
     "output_type": "display_data"
    },
    {
     "data": {
      "text/plain": [
       "'z[3]: -0.0667719841003418, x[3]: 0.9867856502532959, y[3]: 0.07590675354003906'"
      ]
     },
     "metadata": {},
     "output_type": "display_data"
    },
    {
     "data": {
      "text/plain": [
       "'z[4]: 0.057582855224609375, x[4]: 0.9962739944458008, y[4]: -0.04744124412536621'"
      ]
     },
     "metadata": {},
     "output_type": "display_data"
    },
    {
     "data": {
      "text/plain": [
       "'z[5]: -0.004835844039916992, x[5]: 0.9992389678955078, y[5]: 0.014825820922851562'"
      ]
     },
     "metadata": {},
     "output_type": "display_data"
    },
    {
     "data": {
      "text/plain": [
       "'z[6]: 0.02640390396118164, x[6]: 0.9997022151947021, y[6]: -0.01640033721923828'"
      ]
     },
     "metadata": {},
     "output_type": "display_data"
    },
    {
     "data": {
      "text/plain": [
       "'z[7]: 0.01078033447265625, x[7]: 0.9999582767486572, y[7]: -0.0007801055908203125'"
      ]
     },
     "metadata": {},
     "output_type": "display_data"
    },
    {
     "data": {
      "text/plain": [
       "'z[8]: 0.0029680728912353516, x[8]: 0.9999642372131348, y[8]: 0.007031917572021484'"
      ]
     },
     "metadata": {},
     "output_type": "display_data"
    },
    {
     "data": {
      "text/plain": [
       "'z[9]: -0.0009379386901855469, x[9]: 0.9999368190765381, y[9]: 0.010937929153442383'"
      ]
     },
     "metadata": {},
     "output_type": "display_data"
    },
    {
     "data": {
      "text/plain": [
       "'z[10]: 0.0010149478912353516, x[10]: 0.9999580383300781, y[10]: 0.008985042572021484'"
      ]
     },
     "metadata": {},
     "output_type": "display_data"
    },
    {
     "data": {
      "text/plain": [
       "'z[11]: 3.8623809814453125e-05, x[11]: 0.9999494552612305, y[11]: 0.009961366653442383'"
      ]
     },
     "metadata": {},
     "output_type": "display_data"
    },
    {
     "data": {
      "text/plain": [
       "'z[12]: -0.0004494190216064453, x[12]: 0.9999446868896484, y[12]: 0.010449409484863281'"
      ]
     },
     "metadata": {},
     "output_type": "display_data"
    },
    {
     "data": {
      "text/plain": [
       "'z[13]: -0.00020551681518554688, x[13]: 0.9999470710754395, y[13]: 0.010205507278442383'"
      ]
     },
     "metadata": {},
     "output_type": "display_data"
    },
    {
     "data": {
      "text/plain": [
       "'z[14]: -8.368492126464844e-05, x[14]: 0.999948263168335, y[14]: 0.010083675384521484'"
      ]
     },
     "metadata": {},
     "output_type": "display_data"
    },
    {
     "data": {
      "text/plain": [
       "'z[15]: -2.288818359375e-05, x[15]: 0.9999487400054932, y[15]: 0.010022878646850586'"
      ]
     },
     "metadata": {},
     "output_type": "display_data"
    }
   ],
   "source": [
    "iterations = 16\n",
    "\n",
    "anglesRad = [math.atan(2**(-i)) for i in range(iterations)]\n",
    "anglesDeg = [math.atan(2**(-i)) * 180/math.pi for i in range(iterations)]\n",
    "\n",
    "x = Fxp(1/K, True, None, 22, 1)\n",
    "y = Fxp(0, True, None, 22, 1)\n",
    "\n",
    "z = Fxp(0.01, True, None, 22, 1)\n",
    "\n",
    "for i in range(len(anglesRad)):\n",
    "  display(f\"z[{i}]: {z}, x[{i}]: {x}, y[{i}]: {y}\")\n",
    "  if z >= 0:\n",
    "    z -= anglesRad[i]\n",
    "    newX = x - (y * 2 ** -i)\n",
    "    newY = y + (x * 2 ** -i)\n",
    "  else:\n",
    "    z += anglesRad[i]\n",
    "    newX = x + (y * 2 ** -i)\n",
    "    newY = y - (x * 2 ** -i)\n",
    "  x = newX\n",
    "  y = newY\n"
   ]
  },
  {
   "cell_type": "code",
   "execution_count": 117,
   "metadata": {
    "dotnet_interactive": {
     "language": "csharp"
    },
    "polyglot_notebook": {
     "kernelName": "csharp"
    }
   },
   "outputs": [
    {
     "name": "stdout",
     "output_type": "stream",
     "text": [
      "15\n",
      "18 bits:\tlb: -5.65888527359523e-06\tmean: -5.231723218937379e-06\tub:-4.8045611642795275e-06\n",
      "19 bits:\tlb: -2.6388253470552975e-06\tmean: -2.26258748048086e-06\tub:-1.886349613906422e-06\n",
      "20 bits:\tlb: -2.2440389376718442e-06\tmean: -1.8621810926020555e-06\tub:-1.4803232475322668e-06\n",
      "21 bits:\tlb: -8.591105128010711e-07\tmean: -4.946216357685995e-07\tub:-1.3013275873612792e-07\n",
      "22 bits:\tlb: -5.088950533238793e-07\tmean: -1.4668898709849776e-07\tub:2.1551707912688382e-07\n",
      "23 bits:\tlb: -4.635932526276317e-07\tmean: -1.0818506277264772e-07\tub:2.4722312708233624e-07\n",
      "24 bits:\tlb: -4.6865949959377226e-07\tmean: -1.0546268399883597e-07\tub:2.5773413159610036e-07\n",
      "16\n",
      "18 bits:\tlb: -5.9479968559641045e-06\tmean: -5.639395313946693e-06\tub:-5.330793771929282e-06\n",
      "19 bits:\tlb: -2.0292279802674077e-06\tmean: -1.8121566445689296e-06\tub:-1.5950853088704516e-06\n",
      "20 bits:\tlb: -2.17786410428095e-06\tmean: -1.9498264657725086e-06\tub:-1.721788827264067e-06\n",
      "21 bits:\tlb: -8.737199542382717e-07\tmean: -6.953236961427689e-07\tub:-5.169274380472661e-07\n",
      "22 bits:\tlb: -4.0531642885743e-07\tmean: -2.245254051734924e-07\tub:-4.373438148955481e-08\n",
      "23 bits:\tlb: -5.234316998688663e-07\tmean: -3.414304980169702e-07\tub:-1.594292961650741e-07\n",
      "24 bits:\tlb: -4.611029868912577e-07\tmean: -2.8039969638713467e-07\tub:-9.969640588301163e-08\n",
      "17\n",
      "18 bits:\tlb: -5.593025699103001e-06\tmean: -5.3158963877239615e-06\tub:-5.038767076344922e-06\n",
      "19 bits:\tlb: -2.0316062583936922e-06\tmean: -1.875526757045498e-06\tub:-1.7194472556973038e-06\n",
      "20 bits:\tlb: -2.14079885607808e-06\tmean: -1.977763424253043e-06\tub:-1.8147279924280058e-06\n",
      "21 bits:\tlb: -6.905136213039839e-07\tmean: -5.991982683502206e-07\tub:-5.078829153964573e-07\n",
      "22 bits:\tlb: -3.4150608292556843e-07\tmean: -2.4941614043205715e-07\tub:-1.5732619793854585e-07\n",
      "23 bits:\tlb: -1.7776456684273586e-07\tmean: -8.660359607182145e-08\tub:4.557374699092951e-09\n",
      "24 bits:\tlb: -1.0933955471836378e-07\tmean: -1.8591079377605623e-08\tub:7.215739596315253e-08\n",
      "18\n",
      "18 bits:\tlb: -5.474452655242071e-06\tmean: -5.199206204533202e-06\tub:-4.923959753824334e-06\n",
      "19 bits:\tlb: -2.064436297207109e-06\tmean: -1.9278438519035655e-06\tub:-1.7912514066000225e-06\n",
      "20 bits:\tlb: -2.1802814687734874e-06\tmean: -2.0323290773638035e-06\tub:-1.8843766859541197e-06\n",
      "21 bits:\tlb: -6.042744333082152e-07\tmean: -5.564385138062788e-07\tub:-5.086025943043425e-07\n",
      "22 bits:\tlb: -2.46284618215345e-07\tmean: -1.986695761556301e-07\tub:-1.5105453409591513e-07\n",
      "23 bits:\tlb: -2.0994373844915327e-07\tmean: -1.6167705380163432e-07\tub:-1.1341036915411536e-07\n",
      "24 bits:\tlb: -1.2933024955883053e-07\tmean: -8.45670440617896e-08\tub:-3.980383856474869e-08\n",
      "19\n",
      "18 bits:\tlb: -5.551603610991017e-06\tmean: -5.276448478636364e-06\tub:-5.0012933462817105e-06\n",
      "19 bits:\tlb: -2.129127408455166e-06\tmean: -1.9909445015734216e-06\tub:-1.8527615946916775e-06\n",
      "20 bits:\tlb: -2.0503381733145427e-06\tmean: -1.9025908753714128e-06\tub:-1.7548435774282828e-06\n",
      "21 bits:\tlb: -6.070148759248989e-07\tmean: -5.789327744074035e-07\tub:-5.508506728899082e-07\n",
      "22 bits:\tlb: -2.1490441607561773e-07\tmean: -1.8650911361299815e-07\tub:-1.5811381115037856e-07\n",
      "23 bits:\tlb: -1.9784428246526927e-07\tmean: -1.6856841363410702e-07\tub:-1.3929254480294477e-07\n",
      "24 bits:\tlb: -1.165638256858201e-07\tmean: -9.397362216854166e-08\tub:-7.138341865126322e-08\n"
     ]
    }
   ],
   "source": [
    "iterMeans = []\n",
    "iterCis = []\n",
    "\n",
    "cordicIterations = np.arange(15, 20, 1)\n",
    "\n",
    "for cordIteration in cordicIterations:\n",
    "  iterations = int(cordIteration)\n",
    "  print(iterations)\n",
    "\n",
    "  anglesRad = [math.atan(2**(-i)) for i in range(iterations)]\n",
    "  anglesDeg = [math.atan(2**(-i)) * 180/math.pi for i in range(iterations)]\n",
    "\n",
    "  K = 1\n",
    "\n",
    "  for angle in anglesRad:\n",
    "    K *= math.sqrt(1 + (math.tan(angle)) ** 2)\n",
    "\n",
    "  # display(K)\n",
    "  numSamples = 10000\n",
    "\n",
    "  intBits = 1\n",
    "  signed = True\n",
    "\n",
    "  fracs = np.arange(18, 25, 1)\n",
    "  means = []\n",
    "  cis = []\n",
    "\n",
    "  for fracBitsIter in fracs:\n",
    "    fracBits = int(fracBitsIter)\n",
    "\n",
    "    x = Fxp(np.full((numSamples), 1/K), signed, None, fracBits, intBits)\n",
    "    y = Fxp(np.zeros((numSamples)), signed, None, fracBits, intBits)\n",
    "    # initAngleRad = float(input(\"angle: \"))\n",
    "    initAngleRad = (np.random.random((numSamples)) - 0.5) * 2 # random between -1 and 1\n",
    "    # initAngleRad = 0\n",
    "\n",
    "    # convert to fixed point\n",
    "\n",
    "    # z = decimal(initAngle)\n",
    "    # z = initAngleRad\n",
    "    z = Fxp(initAngleRad, signed, None, fracBits, intBits)\n",
    "\n",
    "\n",
    "    for i in range(len(anglesRad)):\n",
    "\n",
    "      newX = np.where(z >= 0, x - (y * 2 ** -i), x + (y * 2 ** -i))\n",
    "      newY = np.where(z >= 0, y + (x * 2 ** -i), y - (x * 2 ** -i))\n",
    "\n",
    "      z = np.where(z >= 0, z - anglesRad[i], z + anglesRad[i])\n",
    "\n",
    "      # if z >= 0:\n",
    "      #   z -= anglesRad[i]\n",
    "      #   newX = x - (y * 2 ** -i)\n",
    "      #   newY = y + (x * 2 ** -i)\n",
    "      # else:\n",
    "      #   z += anglesRad[i]\n",
    "      #   newX = x + (y * 2 ** -i)\n",
    "      #   newY = y - (x * 2 ** -i)\n",
    "      x = newX\n",
    "      y = newY\n",
    "\n",
    "    error = x.get_val() - np.cos(initAngleRad)\n",
    "\n",
    "    mean = np.average(error)\n",
    "    ci = np.std(error) / math.sqrt(numSamples) * 1.96\n",
    "\n",
    "    means.append(mean)\n",
    "    cis.append(ci)\n",
    "\n",
    "    print(f\"{fracBits} bits:\\tlb: {mean - ci}\\tmean: {mean}\\tub:{mean + ci}\")\n",
    "    print(f\"\")\n",
    "  iterMeans.append(means)\n",
    "  iterCis.append(cis)\n",
    "\n",
    "# plt.hist(res)\n",
    "fig, ax = plt.subplots()\n",
    "for i in range(len(iterMeans)):\n",
    "  ax.plot(fracs, iterMeans[i], label=f\"i{cordicIterations[i]}\")\n",
    "  ax.legend()\n",
    "  ax.fill_between(fracs, np.subtract(iterMeans[i], iterCis[i]), np.add(iterMeans[i], iterCis[i]), alpha=.1)\n",
    "prevYLim = ax.get_ylim()\n",
    "prevXLim = ax.get_xlim()\n",
    "ax.fill_between([0, 50], -5e-7, -10, interpolate=True, hatch='/', alpha=.1)\n",
    "ax.set_ylim(prevYLim)\n",
    "ax.set_xlim(prevXLim)\n",
    "plt.show()"
   ]
  },
  {
   "cell_type": "code",
   "execution_count": 142,
   "metadata": {
    "dotnet_interactive": {
     "language": "csharp"
    },
    "polyglot_notebook": {
     "kernelName": "csharp"
    }
   },
   "outputs": [],
   "source": [
    "my_numpy = np.asarray(iterMeans).T\n",
    "fig3, ax3 = plt.subplots()\n",
    "\n",
    "\n",
    "for i in range(len(iterMeans)):\n",
    "  # ax3.plot(cordicIterations, iterMeans[i], label=f\"i{fracs[i]}\")\n",
    "    ax3.plot(cordicIterations, my_numpy[0], label=f\"{fracs[i]}\")\n",
    "    prevYLim = ax3.get_ylim()\n",
    "    prevXLim = ax3.get_xlim()\n",
    "    ax3.fill_between([0, 10], -5e-7, -10, interpolate=True, hatch='/', alpha=.1)\n",
    "    ax3.set_ylim(prevYLim)\n",
    "    ax3.set_xlim(prevXLim) \n",
    "plt.show()\n",
    "\n",
    "plt.imshow"
   ]
  }
 ],
 "metadata": {
  "kernelspec": {
   "display_name": "venv",
   "language": "python",
   "name": "python3"
  },
  "language_info": {
   "codemirror_mode": {
    "name": "ipython",
    "version": 3
   },
   "file_extension": ".py",
   "mimetype": "text/x-python",
   "name": "python",
   "nbconvert_exporter": "python",
   "pygments_lexer": "ipython3",
   "version": "3.11.6"
  },
  "polyglot_notebook": {
   "kernelInfo": {
    "defaultKernelName": "csharp",
    "items": [
     {
      "aliases": [],
      "name": "csharp"
     }
    ]
   }
  }
 },
 "nbformat": 4,
 "nbformat_minor": 2
}
