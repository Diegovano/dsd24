{
 "cells": [
  {
   "cell_type": "code",
   "execution_count": 92,
   "metadata": {
    "dotnet_interactive": {
     "language": "csharp"
    },
    "polyglot_notebook": {
     "kernelName": "csharp"
    }
   },
   "outputs": [
    {
     "name": "stdout",
     "output_type": "stream",
     "text": [
      "Using matplotlib backend: TkAgg\n"
     ]
    }
   ],
   "source": [
    "%matplotlib\n",
    "\n",
    "import matplotlib.pyplot as plt\n",
    "from matplotlib import colors\n",
    "import numpy as np\n",
    "import math\n",
    "import random\n",
    "from fxpmath import Fxp"
   ]
  },
  {
   "cell_type": "code",
   "execution_count": 2,
   "metadata": {
    "dotnet_interactive": {
     "language": "csharp"
    },
    "polyglot_notebook": {
     "kernelName": "csharp"
    }
   },
   "outputs": [
    {
     "data": {
      "text/plain": [
       "[0.7853981633974483,\n",
       " 0.4636476090008061,\n",
       " 0.24497866312686414,\n",
       " 0.12435499454676144,\n",
       " 0.06241880999595735,\n",
       " 0.031239833430268277,\n",
       " 0.015623728620476831,\n",
       " 0.007812341060101111,\n",
       " 0.0039062301319669718,\n",
       " 0.0019531225164788188,\n",
       " 0.0009765621895593195,\n",
       " 0.0004882812111948983,\n",
       " 0.00024414062014936177,\n",
       " 0.00012207031189367021,\n",
       " 6.103515617420877e-05,\n",
       " 3.0517578115526096e-05]"
      ]
     },
     "metadata": {},
     "output_type": "display_data"
    },
    {
     "data": {
      "text/plain": [
       "0.6072529351031394"
      ]
     },
     "metadata": {},
     "output_type": "display_data"
    },
    {
     "data": {
      "text/plain": [
       "'0x26DD3B'"
      ]
     },
     "metadata": {},
     "output_type": "display_data"
    },
    {
     "data": {
      "text/plain": [
       "['0x3243F6',\n",
       " '0x1DAC67',\n",
       " '0x0FADBA',\n",
       " '0x07F56E',\n",
       " '0x03FEAB',\n",
       " '0x01FFD5',\n",
       " '0x00FFFA',\n",
       " '0x007FFF',\n",
       " '0x003FFF',\n",
       " '0x001FFF',\n",
       " '0x000FFF',\n",
       " '0x0007FF',\n",
       " '0x0003FF',\n",
       " '0x0001FF',\n",
       " '0x0000FF',\n",
       " '0x00007F']"
      ]
     },
     "metadata": {},
     "output_type": "display_data"
    }
   ],
   "source": [
    "iterations = 16\n",
    "\n",
    "anglesRad = [math.atan(2**(-i)) for i in range(iterations)]\n",
    "anglesDeg = [math.atan(2**(-i)) * 180/math.pi for i in range(iterations)]\n",
    "\n",
    "anglesRadFixed = [Fxp(angle, True, None, 22, 1).hex() for angle in anglesRad]\n",
    "\n",
    "K = 1\n",
    "\n",
    "for angle in anglesRad:\n",
    "  K *= math.sqrt(1 + (math.tan(angle)) ** 2)\n",
    "\n",
    "display(anglesRad, 1/K, Fxp(1/K, True, None, 22, 1).hex())\n",
    "display(anglesRadFixed)"
   ]
  },
  {
   "cell_type": "code",
   "execution_count": 4,
   "metadata": {
    "dotnet_interactive": {
     "language": "csharp"
    },
    "polyglot_notebook": {
     "kernelName": "csharp"
    }
   },
   "outputs": [
    {
     "data": {
      "text/plain": [
       "'z[0]: 0.009999990463256836, x[0]: 0.607252836227417, y[0]: 0.0'"
      ]
     },
     "metadata": {},
     "output_type": "display_data"
    },
    {
     "data": {
      "text/plain": [
       "'z[1]: -0.7753980159759521, x[1]: 0.607252836227417, y[1]: 0.607252836227417'"
      ]
     },
     "metadata": {},
     "output_type": "display_data"
    },
    {
     "data": {
      "text/plain": [
       "'z[2]: -0.3117504119873047, x[2]: 0.9108791351318359, y[2]: 0.30362653732299805'"
      ]
     },
     "metadata": {},
     "output_type": "display_data"
    },
    {
     "data": {
      "text/plain": [
       "'z[3]: -0.0667719841003418, x[3]: 0.9867856502532959, y[3]: 0.07590675354003906'"
      ]
     },
     "metadata": {},
     "output_type": "display_data"
    },
    {
     "data": {
      "text/plain": [
       "'z[4]: 0.057582855224609375, x[4]: 0.9962739944458008, y[4]: -0.04744124412536621'"
      ]
     },
     "metadata": {},
     "output_type": "display_data"
    },
    {
     "data": {
      "text/plain": [
       "'z[5]: -0.004835844039916992, x[5]: 0.9992389678955078, y[5]: 0.014825820922851562'"
      ]
     },
     "metadata": {},
     "output_type": "display_data"
    },
    {
     "data": {
      "text/plain": [
       "'z[6]: 0.02640390396118164, x[6]: 0.9997022151947021, y[6]: -0.01640033721923828'"
      ]
     },
     "metadata": {},
     "output_type": "display_data"
    },
    {
     "data": {
      "text/plain": [
       "'z[7]: 0.01078033447265625, x[7]: 0.9999582767486572, y[7]: -0.0007801055908203125'"
      ]
     },
     "metadata": {},
     "output_type": "display_data"
    },
    {
     "data": {
      "text/plain": [
       "'z[8]: 0.0029680728912353516, x[8]: 0.9999642372131348, y[8]: 0.007031917572021484'"
      ]
     },
     "metadata": {},
     "output_type": "display_data"
    },
    {
     "data": {
      "text/plain": [
       "'z[9]: -0.0009379386901855469, x[9]: 0.9999368190765381, y[9]: 0.010937929153442383'"
      ]
     },
     "metadata": {},
     "output_type": "display_data"
    },
    {
     "data": {
      "text/plain": [
       "'z[10]: 0.0010149478912353516, x[10]: 0.9999580383300781, y[10]: 0.008985042572021484'"
      ]
     },
     "metadata": {},
     "output_type": "display_data"
    },
    {
     "data": {
      "text/plain": [
       "'z[11]: 3.8623809814453125e-05, x[11]: 0.9999494552612305, y[11]: 0.009961366653442383'"
      ]
     },
     "metadata": {},
     "output_type": "display_data"
    },
    {
     "data": {
      "text/plain": [
       "'z[12]: -0.0004494190216064453, x[12]: 0.9999446868896484, y[12]: 0.010449409484863281'"
      ]
     },
     "metadata": {},
     "output_type": "display_data"
    },
    {
     "data": {
      "text/plain": [
       "'z[13]: -0.00020551681518554688, x[13]: 0.9999470710754395, y[13]: 0.010205507278442383'"
      ]
     },
     "metadata": {},
     "output_type": "display_data"
    },
    {
     "data": {
      "text/plain": [
       "'z[14]: -8.368492126464844e-05, x[14]: 0.999948263168335, y[14]: 0.010083675384521484'"
      ]
     },
     "metadata": {},
     "output_type": "display_data"
    },
    {
     "data": {
      "text/plain": [
       "'z[15]: -2.288818359375e-05, x[15]: 0.9999487400054932, y[15]: 0.010022878646850586'"
      ]
     },
     "metadata": {},
     "output_type": "display_data"
    }
   ],
   "source": [
    "iterations = 16\n",
    "\n",
    "anglesRad = [math.atan(2**(-i)) for i in range(iterations)]\n",
    "anglesDeg = [math.atan(2**(-i)) * 180/math.pi for i in range(iterations)]\n",
    "\n",
    "x = Fxp(1/K, True, None, 22, 1)\n",
    "y = Fxp(0, True, None, 22, 1)\n",
    "\n",
    "z = Fxp(0.01, True, None, 22, 1)\n",
    "\n",
    "for i in range(len(anglesRad)):\n",
    "  display(f\"z[{i}]: {z}, x[{i}]: {x}, y[{i}]: {y}\")\n",
    "  if z >= 0:\n",
    "    z -= anglesRad[i]\n",
    "    newX = x - (y * 2 ** -i)\n",
    "    newY = y + (x * 2 ** -i)\n",
    "  else:\n",
    "    z += anglesRad[i]\n",
    "    newX = x + (y * 2 ** -i)\n",
    "    newY = y - (x * 2 ** -i)\n",
    "  x = newX\n",
    "  y = newY\n"
   ]
  },
  {
   "cell_type": "code",
   "execution_count": 10,
   "metadata": {
    "dotnet_interactive": {
     "language": "csharp"
    },
    "polyglot_notebook": {
     "kernelName": "csharp"
    }
   },
   "outputs": [
    {
     "name": "stdout",
     "output_type": "stream",
     "text": [
      "15\n",
      "18 bits:\tlb: -5.432885096755403e-06\tmean: -4.998863109276075e-06\tub:-4.564841121796747e-06\n",
      "19 bits:\tlb: -2.5710929368361994e-06\tmean: -2.1921645065851923e-06\tub:-1.8132360763341853e-06\n",
      "20 bits:\tlb: -2.4229078509412772e-06\tmean: -2.045886113282658e-06\tub:-1.6688643756240389e-06\n",
      "21 bits:\tlb: -7.460512021812426e-07\tmean: -3.821886531583107e-07\tub:-1.8326104135378822e-08\n",
      "22 bits:\tlb: -6.008050621018593e-07\tmean: -2.3875842503248144e-07\tub:1.2328821203689634e-07\n",
      "23 bits:\tlb: -3.2037574638370824e-07\tmean: 3.992030136672486e-08\tub:4.0021634911715795e-07\n",
      "24 bits:\tlb: -3.5960845246247176e-07\tmean: -7.63082073085286e-12\tub:3.5959319082101e-07\n",
      "16\n",
      "18 bits:\tlb: -5.582110707170345e-06\tmean: -5.273190191477617e-06\tub:-4.964269675784888e-06\n",
      "19 bits:\tlb: -2.3231719831610093e-06\tmean: -2.1068030705237885e-06\tub:-1.8904341578865679e-06\n",
      "20 bits:\tlb: -2.2179153891596655e-06\tmean: -1.995407891069978e-06\tub:-1.7729003929802907e-06\n",
      "21 bits:\tlb: -6.124704125716228e-07\tmean: -4.304907042217643e-07\tub:-2.4851099587190575e-07\n",
      "22 bits:\tlb: -4.051398238252072e-07\tmean: -2.2476981361079229e-07\tub:-4.439980339637738e-08\n",
      "23 bits:\tlb: -1.2377372677071816e-07\tmean: 5.725855271258018e-08\tub:2.3829083219587854e-07\n",
      "24 bits:\tlb: -1.0398585651418711e-07\tmean: 7.533439318008206e-08\tub:2.546546428743512e-07\n",
      "17\n",
      "18 bits:\tlb: -5.53260695072098e-06\tmean: -5.259054712777366e-06\tub:-4.9855024748337526e-06\n",
      "19 bits:\tlb: -2.376502945009214e-06\tmean: -2.2214954573201663e-06\tub:-2.0664879696311187e-06\n",
      "20 bits:\tlb: -2.100735214353377e-06\tmean: -1.9376913381170644e-06\tub:-1.7746474618807517e-06\n",
      "21 bits:\tlb: -6.322107712371134e-07\tmean: -5.409461455525566e-07\tub:-4.4968151986799986e-07\n",
      "22 bits:\tlb: -2.70934719674065e-07\tmean: -1.785594429069004e-07\tub:-8.618416613973584e-08\n",
      "23 bits:\tlb: -2.4905990126851897e-07\tmean: -1.5600489808483832e-07\tub:-6.29498949011577e-08\n",
      "24 bits:\tlb: -1.7883681072214514e-07\tmean: -8.85431246559043e-08\tub:1.7505614103365178e-09\n",
      "18\n",
      "18 bits:\tlb: -5.757331740524286e-06\tmean: -5.481630014245442e-06\tub:-5.205928287966599e-06\n",
      "19 bits:\tlb: -2.336955592912355e-06\tmean: -2.1988526406005014e-06\tub:-2.060749688288648e-06\n",
      "20 bits:\tlb: -2.1945869425784104e-06\tmean: -2.046692523510818e-06\tub:-1.8987981044432255e-06\n",
      "21 bits:\tlb: -5.758818028430527e-07\tmean: -5.277724210206669e-07\tub:-4.796630391982812e-07\n",
      "22 bits:\tlb: -1.95872574766988e-07\tmean: -1.4790754658075e-07\tub:-9.994251839451201e-08\n",
      "23 bits:\tlb: -2.1517362283273024e-07\tmean: -1.6705386717843496e-07\tub:-1.1893411152413968e-07\n",
      "24 bits:\tlb: -1.5023824147160672e-07\tmean: -1.0481588589096313e-07\tub:-5.939353031031954e-08\n",
      "19\n",
      "18 bits:\tlb: -5.560681909212214e-06\tmean: -5.28744012483855e-06\tub:-5.014198340464885e-06\n",
      "19 bits:\tlb: -2.051616494045334e-06\tmean: -1.9131199455284077e-06\tub:-1.7746233970114815e-06\n",
      "20 bits:\tlb: -2.055787448910624e-06\tmean: -1.9060445266434134e-06\tub:-1.756301604376203e-06\n",
      "21 bits:\tlb: -6.130509846796657e-07\tmean: -5.859099378903387e-07\tub:-5.587688911010117e-07\n",
      "22 bits:\tlb: -2.091342238312813e-07\tmean: -1.8075881006072158e-07\tub:-1.5238339629016186e-07\n",
      "23 bits:\tlb: -1.8357008870085724e-07\tmean: -1.5431367699975106e-07\tub:-1.2505726529864488e-07\n",
      "24 bits:\tlb: -9.5600341078285e-08\tmean: -7.307592175687106e-08\tub:-5.055150243545712e-08\n"
     ]
    }
   ],
   "source": [
    "iterMeans = []\n",
    "iterCis = []\n",
    "\n",
    "cordicIterations = np.arange(15, 20, 1)\n",
    "\n",
    "for cordIteration in cordicIterations:\n",
    "  iterations = int(cordIteration)\n",
    "  print(iterations)\n",
    "\n",
    "  anglesRad = [math.atan(2**(-i)) for i in range(iterations)]\n",
    "  anglesDeg = [math.atan(2**(-i)) * 180/math.pi for i in range(iterations)]\n",
    "\n",
    "  K = 1\n",
    "\n",
    "  for angle in anglesRad:\n",
    "    K *= math.sqrt(1 + (math.tan(angle)) ** 2)\n",
    "\n",
    "  # display(K)\n",
    "  numSamples = 10000\n",
    "\n",
    "  intBits = 1\n",
    "  signed = True\n",
    "\n",
    "  fracs = np.arange(18, 25, 1)\n",
    "  means = []\n",
    "  cis = []\n",
    "\n",
    "  for fracBitsIter in fracs:\n",
    "    fracBits = int(fracBitsIter)\n",
    "\n",
    "    x = Fxp(np.full((numSamples), 1/K), signed, None, fracBits, intBits)\n",
    "    y = Fxp(np.zeros((numSamples)), signed, None, fracBits, intBits)\n",
    "    # initAngleRad = float(input(\"angle: \"))\n",
    "    initAngleRad = (np.random.random((numSamples)) - 0.5) * 2 # random between -1 and 1\n",
    "    # initAngleRad = 0\n",
    "\n",
    "    # convert to fixed point\n",
    "\n",
    "    # z = decimal(initAngle)\n",
    "    # z = initAngleRad\n",
    "    z = Fxp(initAngleRad, signed, None, fracBits, intBits)\n",
    "\n",
    "\n",
    "    for i in range(len(anglesRad)):\n",
    "\n",
    "      newX = np.where(z >= 0, x - (y * 2 ** -i), x + (y * 2 ** -i))\n",
    "      newY = np.where(z >= 0, y + (x * 2 ** -i), y - (x * 2 ** -i))\n",
    "\n",
    "      z = np.where(z >= 0, z - anglesRad[i], z + anglesRad[i])\n",
    "\n",
    "      # if z >= 0:\n",
    "      #   z -= anglesRad[i]\n",
    "      #   newX = x - (y * 2 ** -i)\n",
    "      #   newY = y + (x * 2 ** -i)\n",
    "      # else:\n",
    "      #   z += anglesRad[i]\n",
    "      #   newX = x + (y * 2 ** -i)\n",
    "      #   newY = y - (x * 2 ** -i)\n",
    "      x = newX\n",
    "      y = newY\n",
    "\n",
    "    error = x.get_val() - np.cos(initAngleRad)\n",
    "\n",
    "    mean = np.average(error)\n",
    "    ci = np.std(error) / math.sqrt(numSamples) * 1.96\n",
    "\n",
    "    means.append(mean)\n",
    "    cis.append(ci)\n",
    "\n",
    "    print(f\"{fracBits} bits:\\tlb: {mean - ci}\\tmean: {mean}\\tub:{mean + ci}\")\n",
    "  iterMeans.append(means)\n",
    "  iterCis.append(cis)\n",
    "\n",
    "# plt.hist(res)\n",
    "fig, ax = plt.subplots()\n",
    "for i in range(len(iterMeans)):\n",
    "  ax.plot(fracs, iterMeans[i], label=f\"i{cordicIterations[i]}\")\n",
    "  ax.legend()\n",
    "  ax.fill_between(fracs, np.subtract(iterMeans[i], iterCis[i]), np.add(iterMeans[i], iterCis[i]), alpha=.1)\n",
    "prevYLim = ax.get_ylim()\n",
    "prevXLim = ax.get_xlim()\n",
    "ax.fill_between([0, 50], -5e-7, -10, interpolate=True, hatch='/', alpha=.1)\n",
    "ax.set_ylim(prevYLim)\n",
    "ax.set_xlim(prevXLim)\n",
    "plt.show()"
   ]
  },
  {
   "cell_type": "code",
   "execution_count": 11,
   "metadata": {
    "dotnet_interactive": {
     "language": "csharp"
    },
    "polyglot_notebook": {
     "kernelName": "csharp"
    }
   },
   "outputs": [],
   "source": [
    "fig3, ax3 = plt.subplots()\n",
    "\n",
    "fracs = np.arange(1,10,1)\n",
    "y = np.full(10, -1)\n",
    "\n",
    "ax3.fill_between(fracs, -2, -100, color='none', edgecolor='black', hatch='/', alpha=0.1)\n",
    "ax3.set_ylim(-10, 0)\n",
    "plt.show()"
   ]
  },
  {
   "cell_type": "code",
   "execution_count": 3,
   "metadata": {},
   "outputs": [
    {
     "data": {
      "text/plain": [
       "36837.97421202771"
      ]
     },
     "execution_count": 3,
     "metadata": {},
     "output_type": "execute_result"
    }
   ],
   "source": [
    "x = 244\n",
    "\n",
    "0.5* x + x * x * math.cos((x-128)/128)"
   ]
  },
  {
   "cell_type": "code",
   "execution_count": 116,
   "metadata": {},
   "outputs": [
    {
     "ename": "ValueError",
     "evalue": "-1 is not a valid value for scale; supported values are 'linear', 'log', 'symlog', 'asinh', 'logit', 'function', 'functionlog'",
     "output_type": "error",
     "traceback": [
      "\u001b[0;31m---------------------------------------------------------------------------\u001b[0m",
      "\u001b[0;31mValueError\u001b[0m                                Traceback (most recent call last)",
      "Cell \u001b[0;32mIn[116], line 3\u001b[0m\n\u001b[1;32m      1\u001b[0m fig, ax \u001b[38;5;241m=\u001b[39m plt\u001b[38;5;241m.\u001b[39msubplots()\n\u001b[1;32m      2\u001b[0m plt\u001b[38;5;241m.\u001b[39mimshow(iterMeans, cmap\u001b[38;5;241m=\u001b[39m\u001b[38;5;124m\"\u001b[39m\u001b[38;5;124mOranges_r\u001b[39m\u001b[38;5;124m\"\u001b[39m)\n\u001b[0;32m----> 3\u001b[0m \u001b[43mplt\u001b[49m\u001b[38;5;241;43m.\u001b[39;49m\u001b[43myscale\u001b[49m\u001b[43m(\u001b[49m\u001b[38;5;241;43m-\u001b[39;49m\u001b[38;5;241;43m1\u001b[39;49m\u001b[43m)\u001b[49m\n\u001b[1;32m      4\u001b[0m plt\u001b[38;5;241m.\u001b[39mshow()\n",
      "File \u001b[0;32m~/documents/dsd/cordic/venv/lib/python3.11/site-packages/matplotlib/pyplot.py:4179\u001b[0m, in \u001b[0;36myscale\u001b[0;34m(value, **kwargs)\u001b[0m\n\u001b[1;32m   4177\u001b[0m \u001b[38;5;129m@_copy_docstring_and_deprecators\u001b[39m(Axes\u001b[38;5;241m.\u001b[39mset_yscale)\n\u001b[1;32m   4178\u001b[0m \u001b[38;5;28;01mdef\u001b[39;00m \u001b[38;5;21myscale\u001b[39m(value: \u001b[38;5;28mstr\u001b[39m \u001b[38;5;241m|\u001b[39m ScaleBase, \u001b[38;5;241m*\u001b[39m\u001b[38;5;241m*\u001b[39mkwargs) \u001b[38;5;241m-\u001b[39m\u001b[38;5;241m>\u001b[39m \u001b[38;5;28;01mNone\u001b[39;00m:\n\u001b[0;32m-> 4179\u001b[0m     \u001b[43mgca\u001b[49m\u001b[43m(\u001b[49m\u001b[43m)\u001b[49m\u001b[38;5;241;43m.\u001b[39;49m\u001b[43mset_yscale\u001b[49m\u001b[43m(\u001b[49m\u001b[43mvalue\u001b[49m\u001b[43m,\u001b[49m\u001b[43m \u001b[49m\u001b[38;5;241;43m*\u001b[39;49m\u001b[38;5;241;43m*\u001b[39;49m\u001b[43mkwargs\u001b[49m\u001b[43m)\u001b[49m\n",
      "File \u001b[0;32m~/documents/dsd/cordic/venv/lib/python3.11/site-packages/matplotlib/axes/_base.py:73\u001b[0m, in \u001b[0;36m_axis_method_wrapper.__set_name__.<locals>.wrapper\u001b[0;34m(self, *args, **kwargs)\u001b[0m\n\u001b[1;32m     72\u001b[0m \u001b[38;5;28;01mdef\u001b[39;00m \u001b[38;5;21mwrapper\u001b[39m(\u001b[38;5;28mself\u001b[39m, \u001b[38;5;241m*\u001b[39margs, \u001b[38;5;241m*\u001b[39m\u001b[38;5;241m*\u001b[39mkwargs):\n\u001b[0;32m---> 73\u001b[0m     \u001b[38;5;28;01mreturn\u001b[39;00m \u001b[43mget_method\u001b[49m\u001b[43m(\u001b[49m\u001b[38;5;28;43mself\u001b[39;49m\u001b[43m)\u001b[49m\u001b[43m(\u001b[49m\u001b[38;5;241;43m*\u001b[39;49m\u001b[43margs\u001b[49m\u001b[43m,\u001b[49m\u001b[43m \u001b[49m\u001b[38;5;241;43m*\u001b[39;49m\u001b[38;5;241;43m*\u001b[39;49m\u001b[43mkwargs\u001b[49m\u001b[43m)\u001b[49m\n",
      "File \u001b[0;32m~/documents/dsd/cordic/venv/lib/python3.11/site-packages/matplotlib/axis.py:837\u001b[0m, in \u001b[0;36mAxis._set_axes_scale\u001b[0;34m(self, value, **kwargs)\u001b[0m\n\u001b[1;32m    834\u001b[0m old_default_lims \u001b[38;5;241m=\u001b[39m (\u001b[38;5;28mself\u001b[39m\u001b[38;5;241m.\u001b[39mget_major_locator()\n\u001b[1;32m    835\u001b[0m                     \u001b[38;5;241m.\u001b[39mnonsingular(\u001b[38;5;241m-\u001b[39mnp\u001b[38;5;241m.\u001b[39minf, np\u001b[38;5;241m.\u001b[39minf))\n\u001b[1;32m    836\u001b[0m \u001b[38;5;28;01mfor\u001b[39;00m ax \u001b[38;5;129;01min\u001b[39;00m \u001b[38;5;28mself\u001b[39m\u001b[38;5;241m.\u001b[39m_get_shared_axes():\n\u001b[0;32m--> 837\u001b[0m     \u001b[43max\u001b[49m\u001b[38;5;241;43m.\u001b[39;49m\u001b[43m_axis_map\u001b[49m\u001b[43m[\u001b[49m\u001b[43mname\u001b[49m\u001b[43m]\u001b[49m\u001b[38;5;241;43m.\u001b[39;49m\u001b[43m_set_scale\u001b[49m\u001b[43m(\u001b[49m\u001b[43mvalue\u001b[49m\u001b[43m,\u001b[49m\u001b[43m \u001b[49m\u001b[38;5;241;43m*\u001b[39;49m\u001b[38;5;241;43m*\u001b[39;49m\u001b[43mkwargs\u001b[49m\u001b[43m)\u001b[49m\n\u001b[1;32m    838\u001b[0m     ax\u001b[38;5;241m.\u001b[39m_update_transScale()\n\u001b[1;32m    839\u001b[0m     ax\u001b[38;5;241m.\u001b[39mstale \u001b[38;5;241m=\u001b[39m \u001b[38;5;28;01mTrue\u001b[39;00m\n",
      "File \u001b[0;32m~/documents/dsd/cordic/venv/lib/python3.11/site-packages/matplotlib/axis.py:796\u001b[0m, in \u001b[0;36mAxis._set_scale\u001b[0;34m(self, value, **kwargs)\u001b[0m\n\u001b[1;32m    794\u001b[0m \u001b[38;5;28;01mdef\u001b[39;00m \u001b[38;5;21m_set_scale\u001b[39m(\u001b[38;5;28mself\u001b[39m, value, \u001b[38;5;241m*\u001b[39m\u001b[38;5;241m*\u001b[39mkwargs):\n\u001b[1;32m    795\u001b[0m     \u001b[38;5;28;01mif\u001b[39;00m \u001b[38;5;129;01mnot\u001b[39;00m \u001b[38;5;28misinstance\u001b[39m(value, mscale\u001b[38;5;241m.\u001b[39mScaleBase):\n\u001b[0;32m--> 796\u001b[0m         \u001b[38;5;28mself\u001b[39m\u001b[38;5;241m.\u001b[39m_scale \u001b[38;5;241m=\u001b[39m \u001b[43mmscale\u001b[49m\u001b[38;5;241;43m.\u001b[39;49m\u001b[43mscale_factory\u001b[49m\u001b[43m(\u001b[49m\u001b[43mvalue\u001b[49m\u001b[43m,\u001b[49m\u001b[43m \u001b[49m\u001b[38;5;28;43mself\u001b[39;49m\u001b[43m,\u001b[49m\u001b[43m \u001b[49m\u001b[38;5;241;43m*\u001b[39;49m\u001b[38;5;241;43m*\u001b[39;49m\u001b[43mkwargs\u001b[49m\u001b[43m)\u001b[49m\n\u001b[1;32m    797\u001b[0m     \u001b[38;5;28;01melse\u001b[39;00m:\n\u001b[1;32m    798\u001b[0m         \u001b[38;5;28mself\u001b[39m\u001b[38;5;241m.\u001b[39m_scale \u001b[38;5;241m=\u001b[39m value\n",
      "File \u001b[0;32m~/documents/dsd/cordic/venv/lib/python3.11/site-packages/matplotlib/scale.py:716\u001b[0m, in \u001b[0;36mscale_factory\u001b[0;34m(scale, axis, **kwargs)\u001b[0m\n\u001b[1;32m    707\u001b[0m \u001b[38;5;28;01mdef\u001b[39;00m \u001b[38;5;21mscale_factory\u001b[39m(scale, axis, \u001b[38;5;241m*\u001b[39m\u001b[38;5;241m*\u001b[39mkwargs):\n\u001b[1;32m    708\u001b[0m \u001b[38;5;250m    \u001b[39m\u001b[38;5;124;03m\"\"\"\u001b[39;00m\n\u001b[1;32m    709\u001b[0m \u001b[38;5;124;03m    Return a scale class by name.\u001b[39;00m\n\u001b[1;32m    710\u001b[0m \n\u001b[0;32m   (...)\u001b[0m\n\u001b[1;32m    714\u001b[0m \u001b[38;5;124;03m    axis : `~matplotlib.axis.Axis`\u001b[39;00m\n\u001b[1;32m    715\u001b[0m \u001b[38;5;124;03m    \"\"\"\u001b[39;00m\n\u001b[0;32m--> 716\u001b[0m     scale_cls \u001b[38;5;241m=\u001b[39m \u001b[43m_api\u001b[49m\u001b[38;5;241;43m.\u001b[39;49m\u001b[43mcheck_getitem\u001b[49m\u001b[43m(\u001b[49m\u001b[43m_scale_mapping\u001b[49m\u001b[43m,\u001b[49m\u001b[43m \u001b[49m\u001b[43mscale\u001b[49m\u001b[38;5;241;43m=\u001b[39;49m\u001b[43mscale\u001b[49m\u001b[43m)\u001b[49m\n\u001b[1;32m    717\u001b[0m     \u001b[38;5;28;01mreturn\u001b[39;00m scale_cls(axis, \u001b[38;5;241m*\u001b[39m\u001b[38;5;241m*\u001b[39mkwargs)\n",
      "File \u001b[0;32m~/documents/dsd/cordic/venv/lib/python3.11/site-packages/matplotlib/_api/__init__.py:183\u001b[0m, in \u001b[0;36mcheck_getitem\u001b[0;34m(mapping, **kwargs)\u001b[0m\n\u001b[1;32m    181\u001b[0m     \u001b[38;5;28;01mreturn\u001b[39;00m mapping[v]\n\u001b[1;32m    182\u001b[0m \u001b[38;5;28;01mexcept\u001b[39;00m \u001b[38;5;167;01mKeyError\u001b[39;00m:\n\u001b[0;32m--> 183\u001b[0m     \u001b[38;5;28;01mraise\u001b[39;00m \u001b[38;5;167;01mValueError\u001b[39;00m(\n\u001b[1;32m    184\u001b[0m         \u001b[38;5;124mf\u001b[39m\u001b[38;5;124m\"\u001b[39m\u001b[38;5;132;01m{\u001b[39;00mv\u001b[38;5;132;01m!r}\u001b[39;00m\u001b[38;5;124m is not a valid value for \u001b[39m\u001b[38;5;132;01m{\u001b[39;00mk\u001b[38;5;132;01m}\u001b[39;00m\u001b[38;5;124m; supported values are \u001b[39m\u001b[38;5;124m\"\u001b[39m\n\u001b[1;32m    185\u001b[0m         \u001b[38;5;124mf\u001b[39m\u001b[38;5;124m\"\u001b[39m\u001b[38;5;132;01m{\u001b[39;00m\u001b[38;5;124m'\u001b[39m\u001b[38;5;124m, \u001b[39m\u001b[38;5;124m'\u001b[39m\u001b[38;5;241m.\u001b[39mjoin(\u001b[38;5;28mmap\u001b[39m(\u001b[38;5;28mrepr\u001b[39m,\u001b[38;5;250m \u001b[39mmapping))\u001b[38;5;132;01m}\u001b[39;00m\u001b[38;5;124m\"\u001b[39m) \u001b[38;5;28;01mfrom\u001b[39;00m \u001b[38;5;28;01mNone\u001b[39;00m\n",
      "\u001b[0;31mValueError\u001b[0m: -1 is not a valid value for scale; supported values are 'linear', 'log', 'symlog', 'asinh', 'logit', 'function', 'functionlog'"
     ]
    }
   ],
   "source": [
    "fig, ax = plt.subplots()\n",
    "plt.imshow(iterMeans, cmap=\"Oranges_r\")\n",
    "plt.yscale(-1)\n",
    "plt.show()"
   ]
  },
  {
   "cell_type": "code",
   "execution_count": null,
   "metadata": {},
   "outputs": [],
   "source": []
  }
 ],
 "metadata": {
  "kernelspec": {
   "display_name": "venv",
   "language": "python",
   "name": "python3"
  },
  "language_info": {
   "codemirror_mode": {
    "name": "ipython",
    "version": 3
   },
   "file_extension": ".py",
   "mimetype": "text/x-python",
   "name": "python",
   "nbconvert_exporter": "python",
   "pygments_lexer": "ipython3",
   "version": "3.11.6"
  },
  "polyglot_notebook": {
   "kernelInfo": {
    "defaultKernelName": "csharp",
    "items": [
     {
      "aliases": [],
      "name": "csharp"
     }
    ]
   }
  }
 },
 "nbformat": 4,
 "nbformat_minor": 2
}
